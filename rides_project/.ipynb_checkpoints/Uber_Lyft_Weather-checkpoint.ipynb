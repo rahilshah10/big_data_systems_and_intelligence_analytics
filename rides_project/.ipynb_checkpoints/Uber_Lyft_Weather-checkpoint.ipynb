{
 "cells": [
  {
   "cell_type": "code",
   "execution_count": 1,
   "metadata": {
    "collapsed": true
   },
   "outputs": [],
   "source": [
    "from __future__ import print_function\n",
    "# import argparse\n",
    "import json\n",
    "import pprint\n",
    "import requests\n",
    "# import sys\n",
    "import urllib\n",
    "import os\n",
    "# import math, re, types, datetime, random, time, unicodedata, optparse\n",
    "from datetime import timedelta\n",
    "import datetime\n",
    "# from urllib.error import HTTPError\n",
    "# from urllib.parse import quote\n",
    "# from urllib.parse import urlencode\n",
    "import pandas as pd\n",
    "import sqlite3\n",
    "from pandas.io import sql\n",
    "from pandas.io.json import json_normalize"
   ]
  },
  {
   "cell_type": "code",
   "execution_count": 2,
   "metadata": {},
   "outputs": [
    {
     "name": "stdout",
     "output_type": "stream",
     "text": [
      "2018-03-01 14:27:31\n"
     ]
    }
   ],
   "source": [
    "begmonth=datetime.datetime.now()\n",
    "# begmonth=begmonth.replace(day=1)\n",
    "date=begmonth.strftime(\"%Y-%m-%d %H:%M:%S\")\n",
    "print(date)"
   ]
  },
  {
   "cell_type": "code",
   "execution_count": 3,
   "metadata": {
    "collapsed": true
   },
   "outputs": [],
   "source": [
    "# debug=False\n",
    "# delay=120"
   ]
  },
  {
   "cell_type": "markdown",
   "metadata": {},
   "source": [
    "# Yelp API"
   ]
  },
  {
   "cell_type": "code",
   "execution_count": 5,
   "metadata": {},
   "outputs": [
    {
     "ename": "KeyError",
     "evalue": "'access_token'",
     "output_type": "error",
     "traceback": [
      "\u001b[1;31m---------------------------------------------------------------------------\u001b[0m",
      "\u001b[1;31mKeyError\u001b[0m                                  Traceback (most recent call last)",
      "\u001b[1;32m<ipython-input-5-b1aa857f19be>\u001b[0m in \u001b[0;36m<module>\u001b[1;34m()\u001b[0m\n\u001b[0;32m      5\u001b[0m         'client_secret': app_secret}\n\u001b[0;32m      6\u001b[0m \u001b[0mtoken\u001b[0m \u001b[1;33m=\u001b[0m \u001b[0mrequests\u001b[0m\u001b[1;33m.\u001b[0m\u001b[0mpost\u001b[0m\u001b[1;33m(\u001b[0m\u001b[1;34m'https://api.yelp.com/oauth2/token'\u001b[0m\u001b[1;33m,\u001b[0m \u001b[0mdata\u001b[0m\u001b[1;33m=\u001b[0m\u001b[0mdata\u001b[0m\u001b[1;33m)\u001b[0m\u001b[1;33m\u001b[0m\u001b[0m\n\u001b[1;32m----> 7\u001b[1;33m \u001b[0maccess_token\u001b[0m \u001b[1;33m=\u001b[0m \u001b[0mtoken\u001b[0m\u001b[1;33m.\u001b[0m\u001b[0mjson\u001b[0m\u001b[1;33m(\u001b[0m\u001b[1;33m)\u001b[0m\u001b[1;33m[\u001b[0m\u001b[1;34m'access_token'\u001b[0m\u001b[1;33m]\u001b[0m\u001b[1;33m\u001b[0m\u001b[0m\n\u001b[0m\u001b[0;32m      8\u001b[0m \u001b[0murl\u001b[0m \u001b[1;33m=\u001b[0m \u001b[1;34m'https://api.yelp.com/v3/businesses/search'\u001b[0m\u001b[1;33m\u001b[0m\u001b[0m\n\u001b[0;32m      9\u001b[0m \u001b[0mheaders\u001b[0m \u001b[1;33m=\u001b[0m \u001b[1;33m{\u001b[0m\u001b[1;34m'Authorization'\u001b[0m\u001b[1;33m:\u001b[0m \u001b[1;34m'bearer %s'\u001b[0m \u001b[1;33m%\u001b[0m \u001b[0maccess_token\u001b[0m\u001b[1;33m}\u001b[0m\u001b[1;33m\u001b[0m\u001b[0m\n",
      "\u001b[1;31mKeyError\u001b[0m: 'access_token'"
     ]
    }
   ],
   "source": [
    "app_id = 'mrsvBGDT1QDCWnCyW2E6rg'\n",
    "app_secret = 'ZNhzA0Lj1t52FuLLphqASaBz3V08dFkfWqeiDXCkozLg6e2nNFAKJ66hxEaXNxIi'\n",
    "data = {'grant_type': 'client_credentials',\n",
    "        'client_id': app_id,\n",
    "        'client_secret': app_secret}\n",
    "token = requests.post('https://api.yelp.com/oauth2/token', data=data)\n",
    "access_token = token.json()['access_token']\n",
    "url = 'https://api.yelp.com/v3/businesses/search'\n",
    "headers = {'Authorization': 'bearer %s' % access_token}\n",
    "\n",
    "# Yelp v3 API: https://nz.yelp.com/developers/documentation/v3   https://www.yelp.com/developers/documentation/v3/business_search\n",
    "\n",
    "params = {'location': 'Boston, MA', # for loop of zipcodes in Boston and Cambridge\n",
    "          'categories': 'active', # active stand for all businesses https://www.yelp.com/developers/documentation/v3/all_category_list\n",
    "          'limit': 50} # maximum 50\n",
    "response = requests.get(url=url, params=params, headers=headers)\n",
    "\n",
    "results = response.json()['businesses']\n",
    "for business in results:\n",
    "     print(business['name'])\n",
    "\n",
    "print ('\\nTotal Businesses retrieved:' , len(results))"
   ]
  },
  {
   "cell_type": "code",
   "execution_count": null,
   "metadata": {
    "collapsed": true
   },
   "outputs": [],
   "source": [
    "# Boston zipcodes: http://www.city-data.com/zipmaps/Boston-Massachusetts.html\n",
    "# Cambridge zipcodes: http://www2.cambridgema.gov/CityOfCambridge_Content/documents/ZipCodeMap.pdf\n",
    "\n",
    "zipcodes = [\"02108\", \"02109\", \"02110\", \"02111\", \"02113\", \"02114\", \"02115\", \"02116\", \"02118\", \"02119\", \"02120\", \"02121\", \"02122\", \n",
    "            \"02124\", \"02125\", \"02126\", \"02127\", \"02128\", \"02129\", \"02130\", \"02131\", \"02132\", \"02134\", \"02135\", \"02136\", \"02151\", \n",
    "            \"02152\", \"02163\", \"02199\", \"02203\", \"02210\", \"02215\", \"02467\", \"02138\", \"02139\", \"02140\", \"02141\", \"02142\"]"
   ]
  },
  {
   "cell_type": "code",
   "execution_count": null,
   "metadata": {
    "scrolled": false
   },
   "outputs": [],
   "source": [
    "app_id = 'mrsvBGDT1QDCWnCyW2E6rg'\n",
    "app_secret = 'ZNhzA0Lj1t52FuLLphqASaBz3V08dFkfWqeiDXCkozLg6e2nNFAKJ66hxEaXNxIi'\n",
    "data = {'grant_type': 'client_credentials',\n",
    "        'client_id': app_id,\n",
    "        'client_secret': app_secret}\n",
    "token = requests.post('https://api.yelp.com/oauth2/token', data=data)\n",
    "access_token = token.json()['access_token']\n",
    "url = 'https://api.yelp.com/v3/businesses/search'\n",
    "headers = {'Authorization': 'bearer %s' % access_token}\n",
    "\n",
    "# Yelp v3 API: https://nz.yelp.com/developers/documentation/v3   https://www.yelp.com/developers/documentation/v3/business_search\n",
    "\n",
    "for z in zipcodes:   \n",
    "#     zipcode = query_api(\"Businesses in zipcodes: \", z)\n",
    "    params = {'location': '%s' % z, # for loop of zipcodes in Boston and Cambridge\n",
    "              'categories': 'active', # active stands for all businesses https://www.yelp.com/developers/documentation/v3/all_category_list\n",
    "              'limit': 50} # maximum 50\n",
    "    \n",
    "response = requests.get(url=url, params=params, headers=headers)\n",
    "\n",
    "results = response.json()['businesses']\n",
    "for business in results:\n",
    "     print(business['name'], business['location'])\n",
    "\n",
    "print ('\\nTotal Businesses retrieved:', len(results))"
   ]
  },
  {
   "cell_type": "code",
   "execution_count": null,
   "metadata": {
    "collapsed": true
   },
   "outputs": [],
   "source": [
    "conn = sqlite3.connect('yelp.db')\n",
    "cur = conn.cursor()"
   ]
  },
  {
   "cell_type": "code",
   "execution_count": null,
   "metadata": {
    "collapsed": true
   },
   "outputs": [],
   "source": [
    "# normalizing json to pandas dataframe\n",
    "df = json_normalize(results)"
   ]
  },
  {
   "cell_type": "code",
   "execution_count": null,
   "metadata": {
    "scrolled": true
   },
   "outputs": [],
   "source": [
    "df"
   ]
  },
  {
   "cell_type": "code",
   "execution_count": null,
   "metadata": {},
   "outputs": [],
   "source": [
    "df.dtypes"
   ]
  },
  {
   "cell_type": "code",
   "execution_count": null,
   "metadata": {
    "collapsed": true
   },
   "outputs": [],
   "source": [
    "df = df.drop(['categories', 'location.display_address', 'transactions'], axis=1)"
   ]
  },
  {
   "cell_type": "code",
   "execution_count": null,
   "metadata": {
    "collapsed": true
   },
   "outputs": [],
   "source": [
    "df.columns = df.columns.str.replace(r'[.]', '_')"
   ]
  },
  {
   "cell_type": "code",
   "execution_count": null,
   "metadata": {},
   "outputs": [],
   "source": [
    "df.columns"
   ]
  },
  {
   "cell_type": "code",
   "execution_count": null,
   "metadata": {
    "collapsed": true
   },
   "outputs": [],
   "source": [
    "# converting to sqlite\n",
    "df.to_sql(\"yelp_businesses\", conn, if_exists=\"replace\")"
   ]
  },
  {
   "cell_type": "code",
   "execution_count": null,
   "metadata": {},
   "outputs": [],
   "source": [
    "pd.read_sql_query(\"select * from yelp_businesses;\", conn)"
   ]
  },
  {
   "cell_type": "markdown",
   "metadata": {},
   "source": [
    "# Uber API"
   ]
  },
  {
   "cell_type": "code",
   "execution_count": null,
   "metadata": {
    "collapsed": true
   },
   "outputs": [],
   "source": [
    "# pip install uber-rides\n",
    "from uber_rides.session import Session as uber_Session\n",
    "from uber_rides.client import UberRidesClient\n",
    "# conda install -c conda-forge geopy\n",
    "from geopy.distance import vincenty\n",
    "import csv\n",
    "\n",
    "session = uber_Session(server_token='Uvu3eEPnLtPKCbTU7KrCko5jo1ua4CVgYAqd0JfO')\n",
    "client = UberRidesClient(session)"
   ]
  },
  {
   "cell_type": "code",
   "execution_count": null,
   "metadata": {},
   "outputs": [],
   "source": [
    "df1 = pd.read_sql_query(\"SELECT name, coordinates_latitude, coordinates_longitude, location_address1, location_address2, location_address3, location_city, location_state, location_zip_code, location_country FROM yelp_businesses ORDER BY RANDOM() LIMIT 1;\", conn)\n",
    "df1.head()"
   ]
  },
  {
   "cell_type": "code",
   "execution_count": null,
   "metadata": {},
   "outputs": [],
   "source": [
    "df2 = pd.read_sql_query('SELECT name, coordinates_latitude, coordinates_longitude, location_address1, location_address2, location_address3, location_city, location_state, location_zip_code, location_country FROM yelp_businesses where name IN (SELECT name FROM yelp_businesses ORDER BY RANDOM() LIMIT 1)', conn)\n",
    "df2.head()"
   ]
  },
  {
   "cell_type": "code",
   "execution_count": null,
   "metadata": {},
   "outputs": [],
   "source": [
    "start_loc = (df1['coordinates_latitude'][0], df1['coordinates_longitude'][0])\n",
    "start_loc"
   ]
  },
  {
   "cell_type": "code",
   "execution_count": null,
   "metadata": {},
   "outputs": [],
   "source": [
    "    end_loc = (df2['coordinates_latitude'][0], df2['coordinates_longitude'][0])\n",
    "    end_loc"
   ]
  },
  {
   "cell_type": "code",
   "execution_count": null,
   "metadata": {},
   "outputs": [],
   "source": [
    "    distance = vincenty(start_loc, end_loc).miles\n",
    "    if(distance > 1):\n",
    "        print(distance, '\\n')\n",
    "        response = client.get_price_estimates(\n",
    "        start_latitude= df1['coordinates_latitude'][0],\n",
    "        start_longitude= df1['coordinates_longitude'][0],\n",
    "        end_latitude=  df2['coordinates_latitude'][0],\n",
    "        end_longitude= df2['coordinates_longitude'][0]\n",
    "        )\n",
    "        uber_rides = response.json.get(\"prices\")\n",
    "        print(uber_rides)"
   ]
  },
  {
   "cell_type": "code",
   "execution_count": null,
   "metadata": {
    "collapsed": true
   },
   "outputs": [],
   "source": [
    "        dt = datetime.datetime.now()    \n",
    "        for rides in uber_rides:\n",
    "            rides[\"time\"] = dt.strftime('%H:%M:%S')\n",
    "            rides['day'] = dt.strftime('%A')\n",
    "            rides['date'] = dt.strftime('%B %d, %Y')\n",
    "            rides[\"start_latitude\"] = df1['coordinates_latitude'][0]\n",
    "            rides[\"start_longitude\"] = df1['coordinates_longitude'][0]\n",
    "            rides[\"end_latitude\"] = df2['coordinates_latitude'][0]\n",
    "            rides[\"end_longitude\"] = df2['coordinates_longitude'][0]\n",
    "            rides['start_location'] = df1['name'][0]\n",
    "            rides['end_location'] = df2['name'][0]"
   ]
  },
  {
   "cell_type": "code",
   "execution_count": null,
   "metadata": {},
   "outputs": [],
   "source": [
    "            df_uber = pd.DataFrame(uber_rides)\n",
    "            df_uber"
   ]
  },
  {
   "cell_type": "code",
   "execution_count": null,
   "metadata": {
    "collapsed": true
   },
   "outputs": [],
   "source": [
    "#             file_name = os.path.join(os.getcwd(), 'uber.csv')\n",
    "#             df_uber.to_csv(file_name, sep=',', encoding='utf-8', index=False)"
   ]
  },
  {
   "cell_type": "code",
   "execution_count": null,
   "metadata": {
    "collapsed": true
   },
   "outputs": [],
   "source": [
    "# to append when sending to server\n",
    "with open('uber.csv', 'a') as f:\n",
    "    df_uber.to_csv(f, sep=',', encoding='utf-8', index=False, header=False)"
   ]
  },
  {
   "cell_type": "code",
   "execution_count": null,
   "metadata": {
    "collapsed": true
   },
   "outputs": [],
   "source": [
    "# to do: define function and iterate else statement to that function if geopy distance < 1"
   ]
  },
  {
   "cell_type": "markdown",
   "metadata": {
    "collapsed": true
   },
   "source": [
    "# Lyft API"
   ]
  },
  {
   "cell_type": "code",
   "execution_count": null,
   "metadata": {
    "collapsed": true
   },
   "outputs": [],
   "source": [
    "from lyft_rides.auth import ClientCredentialGrant\n",
    "from lyft_rides.session import Session as lyft_Session\n",
    "from lyft_rides.auth import AuthorizationCodeGrant"
   ]
  },
  {
   "cell_type": "code",
   "execution_count": null,
   "metadata": {
    "collapsed": true
   },
   "outputs": [],
   "source": [
    "auth_flow = ClientCredentialGrant(\n",
    "    'gRUenY4LPYg_',\n",
    "    'dFyiT-f23Jwmo_A7n2xGfzp_WcWvBIi8',\n",
    "    'public',\n",
    "    )\n",
    "lyft_session = auth_flow.get_session()"
   ]
  },
  {
   "cell_type": "code",
   "execution_count": null,
   "metadata": {
    "scrolled": true
   },
   "outputs": [],
   "source": [
    "#Use the same location\n",
    "df1.head()"
   ]
  },
  {
   "cell_type": "code",
   "execution_count": null,
   "metadata": {
    "scrolled": false
   },
   "outputs": [],
   "source": [
    "df2.head()"
   ]
  },
  {
   "cell_type": "code",
   "execution_count": null,
   "metadata": {
    "collapsed": true
   },
   "outputs": [],
   "source": [
    "#Check if it is the same location\n",
    "#start_loc"
   ]
  },
  {
   "cell_type": "code",
   "execution_count": null,
   "metadata": {
    "collapsed": true
   },
   "outputs": [],
   "source": [
    "#Check if it is the same location\n",
    "#end_loc"
   ]
  },
  {
   "cell_type": "markdown",
   "metadata": {},
   "source": [
    "Reference of lyft api: https://developer.lyft.com/v1/reference\n",
    "<br>\n",
    "Estimated upper bound for trip cost, in minor units (cents)."
   ]
  },
  {
   "cell_type": "code",
   "execution_count": null,
   "metadata": {},
   "outputs": [],
   "source": [
    "#Get the ride type, Introduction to different type of lyft:https://developer.lyft.com/docs/glossary\n",
    "from lyft_rides.client import LyftRidesClient\n",
    "\n",
    "lyft_client=LyftRidesClient(lyft_session)\n",
    "lyft_type_response = lyft_client.get_ride_types(df1['coordinates_latitude'][0], df1['coordinates_longitude'][0])\n",
    "ride_types = lyft_type_response.json.get('ride_types')\n",
    "print(ride_types)"
   ]
  },
  {
   "cell_type": "code",
   "execution_count": null,
   "metadata": {
    "scrolled": true
   },
   "outputs": [],
   "source": [
    "#Get the ride estimated cost\n",
    "distance = vincenty(start_loc, end_loc).miles\n",
    "if(distance > 1):\n",
    "    print(distance)\n",
    "    lyft_price_response = lyft_client.get_cost_estimates(\n",
    "    start_latitude= df1['coordinates_latitude'][0],\n",
    "    start_longitude= df1['coordinates_longitude'][0],\n",
    "    end_latitude=  df2['coordinates_latitude'][0],\n",
    "    end_longitude= df2['coordinates_longitude'][0]\n",
    "    )\n",
    "    lyft_rides = lyft_price_response.json.get('cost_estimates')\n",
    "    print(lyft_rides)"
   ]
  },
  {
   "cell_type": "code",
   "execution_count": null,
   "metadata": {
    "collapsed": true
   },
   "outputs": [],
   "source": [
    "for rides in lyft_rides:\n",
    "    rides[\"time\"] = dt.strftime('%H:%M:%S')\n",
    "    rides['day'] = dt.strftime('%A')\n",
    "    rides['date'] = dt.strftime('%B %d, %Y')\n",
    "    rides[\"start_latitude\"] = df1['coordinates_latitude'][0]\n",
    "    rides[\"start_longitude\"] = df1['coordinates_longitude'][0]\n",
    "    rides[\"end_latitude\"] = df2['coordinates_latitude'][0]\n",
    "    rides[\"end_longitude\"] = df2['coordinates_longitude'][0]\n",
    "    rides['start_location'] = df1['name'][0]\n",
    "    rides['end_location'] = df2['name'][0]"
   ]
  },
  {
   "cell_type": "code",
   "execution_count": null,
   "metadata": {
    "scrolled": true
   },
   "outputs": [],
   "source": [
    "df_lyft = pd.DataFrame(lyft_rides)\n",
    "df_lyft"
   ]
  },
  {
   "cell_type": "code",
   "execution_count": null,
   "metadata": {
    "collapsed": true
   },
   "outputs": [],
   "source": [
    "file_name_lyft = os.path.join(os.getcwd(), 'lyft.csv')\n",
    "df_lyft.to_csv(file_name_lyft, sep=',', encoding='utf-8', index=False)"
   ]
  },
  {
   "cell_type": "code",
   "execution_count": null,
   "metadata": {
    "collapsed": true
   },
   "outputs": [],
   "source": [
    "# to append when sending to server\n",
    "with open('lyft.csv', 'a') as f:\n",
    "    df_lyft.to_csv(f, sep=',', encoding='utf-8', index=False, header=False)"
   ]
  },
  {
   "cell_type": "markdown",
   "metadata": {},
   "source": [
    "# Weather API"
   ]
  },
  {
   "cell_type": "code",
   "execution_count": null,
   "metadata": {
    "collapsed": true
   },
   "outputs": [],
   "source": [
    "import requests\n",
    "# import time"
   ]
  },
  {
   "cell_type": "code",
   "execution_count": null,
   "metadata": {},
   "outputs": [],
   "source": [
    "#Get the current weather information from lat and long\n",
    "#http://api.openweathermap.org/data/2.5/weather?lat=42.37046&lon=-71.10352&appid=119fe664452f079528a64467c793dd7d\n",
    "lat=str(df1['coordinates_latitude'][0])\n",
    "long=str(df1['coordinates_longitude'][0])\n",
    "\n",
    "api_address='http://api.openweathermap.org/data/2.5/weather?lat='+lat+'&lon='+long+'&appid=119fe664452f079528a64467c793dd7d&q='\n",
    "\n",
    "# real_time=time.strftime(\"%Y-%m-%d %H:%M:%S\", time.localtime())\n",
    "\n",
    "weather_data = requests.get(api_address).json()\n",
    "\n",
    "print(weather_data)\n",
    "# print(real_time)"
   ]
  },
  {
   "cell_type": "code",
   "execution_count": null,
   "metadata": {},
   "outputs": [],
   "source": [
    "weather_data['weather'] = weather_data['weather'][0]['main']\n",
    "weather_data['weather']"
   ]
  },
  {
   "cell_type": "code",
   "execution_count": null,
   "metadata": {},
   "outputs": [],
   "source": [
    "df_weather = json_normalize(weather_data)\n",
    "df_weather.head()"
   ]
  },
  {
   "cell_type": "code",
   "execution_count": null,
   "metadata": {},
   "outputs": [],
   "source": [
    "df_weather.columns"
   ]
  },
  {
   "cell_type": "code",
   "execution_count": null,
   "metadata": {},
   "outputs": [],
   "source": [
    "df_weather.columns = df_weather.columns.str.replace(r'[.]', '_')\n",
    "df_weather.head()"
   ]
  },
  {
   "cell_type": "code",
   "execution_count": null,
   "metadata": {},
   "outputs": [],
   "source": [
    "df_weather['weather']"
   ]
  },
  {
   "cell_type": "markdown",
   "metadata": {},
   "source": [
    "http://openweathermap.org/bulk"
   ]
  },
  {
   "cell_type": "code",
   "execution_count": null,
   "metadata": {},
   "outputs": [],
   "source": [
    "df_weather = df_weather[['weather', 'main_temp', 'main_temp_max', 'main_temp_min']]\n",
    "df_weather.head()"
   ]
  },
  {
   "cell_type": "code",
   "execution_count": null,
   "metadata": {
    "collapsed": true
   },
   "outputs": [],
   "source": [
    "# set up Ubuntu server\n",
    "# create user and add user to a group\n",
    "# tweaked user privileges\n",
    "# change server's timezone to Eastern (for our datetime purposes)\n",
    "# install packages\n",
    "# history on command prompt\n",
    "# install anaconda environment (curl -O https://repo.continuum.io/archive/Anaconda3-5.1.0-Linux-x86_64.sh)\n",
    "# scp our sqlite database file to server so the script can skip querying yelp's API\n",
    "# we can add more locations to yelp database by querying 50 in the same zipcode, increasing our db size by 50 times\n",
    "# set up cron job at minute intervals\n",
    "# sudo apt-get install python3-pip (and then use pip3 to install packages)\n",
    "# [Errno 13] Permission denied: '/usr/local/lib/python3.5/dist-packages/geopy-1.11.0.dist-info'\n",
    "# sudo chown -R $USER /usr/local/lib/python3.5/dist-packages/\n",
    "# http://www.adminschoice.com/crontab-quick-reference\n",
    "# * * * * * cd home/rides/project && /usr/bin/python3 /home/rides/project/uber_lyft_weather_script.py > /home/rides/project/debug.txt &      \n",
    "# https://crontab.guru/#*_*_*_*_*"
   ]
  },
  {
   "cell_type": "code",
   "execution_count": null,
   "metadata": {
    "collapsed": true
   },
   "outputs": [],
   "source": []
  },
  {
   "cell_type": "code",
   "execution_count": null,
   "metadata": {
    "collapsed": true
   },
   "outputs": [],
   "source": []
  }
 ],
 "metadata": {
  "kernelspec": {
   "display_name": "Python 3",
   "language": "python",
   "name": "python3"
  },
  "language_info": {
   "codemirror_mode": {
    "name": "ipython",
    "version": 3
   },
   "file_extension": ".py",
   "mimetype": "text/x-python",
   "name": "python",
   "nbconvert_exporter": "python",
   "pygments_lexer": "ipython3",
   "version": "3.6.3"
  }
 },
 "nbformat": 4,
 "nbformat_minor": 2
}
