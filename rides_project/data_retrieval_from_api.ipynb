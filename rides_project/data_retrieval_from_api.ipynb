{
 "cells": [
  {
   "cell_type": "markdown",
   "metadata": {},
   "source": [
    "# Web Scrapping Scrpit\n",
    "------------------------------------"
   ]
  },
  {
   "cell_type": "markdown",
   "metadata": {},
   "source": [
    "## Datasets"
   ]
  },
  {
   "cell_type": "markdown",
   "metadata": {},
   "source": [
    "Uber API - https://developer.uber.com/dashboard/\n",
    "\n",
    "Uber Rides Python SDK (beta) - https://github.com/uber/rides-python-sdk \n",
    "\n",
    "Lyft API - https://developer.lyft.com/v1/reference \n",
    "\n",
    "Weather API - https://openweathermap.org/api\n",
    "\n",
    "Yelp API - https://www.yelp.com/developers/documentation/v3/business_search "
   ]
  },
  {
   "cell_type": "markdown",
   "metadata": {},
   "source": [
    "As indicated in the Datasets section of this , we queried the Uber API. In order to do that, we must first register an application on Uber’s developer dashboard and install the uber-rides SDK, which is also available on Github.\n",
    "\n",
    "After successfully creating an Uber session with a server token, we found out that the Uber Ride API accepts a pair of coordinates (latitudes and longitudes) as parameters to return data on its various types of services and their price estimates. "
   ]
  },
  {
   "cell_type": "code",
   "execution_count": 1,
   "metadata": {
    "collapsed": true
   },
   "outputs": [],
   "source": [
    "from __future__ import print_function\n",
    "import json\n",
    "import pprint\n",
    "import requests\n",
    "import urllib\n",
    "import os\n",
    "from datetime import timedelta\n",
    "import datetime\n",
    "import pandas as pd\n",
    "import numpy as np\n",
    "import sqlite3\n",
    "from pandas.io import sql\n",
    "from pandas.io.json import json_normalize"
   ]
  },
  {
   "cell_type": "markdown",
   "metadata": {},
   "source": [
    "Getting the proper imports to run our script."
   ]
  },
  {
   "cell_type": "markdown",
   "metadata": {},
   "source": [
    "## Yelp API"
   ]
  },
  {
   "cell_type": "markdown",
   "metadata": {},
   "source": [
    "In this study, we focus on the Uber ride in Boston and Cambridge areas. \n",
    "\n",
    "We have restricted our study to these two small geographic regions due to practical issues such as analysis on a smaller region will help us to predict better with the help of other factors such as weather or popularity of places. This would provide us to provide efficient analysis with available resources.\n"
   ]
  },
  {
   "cell_type": "markdown",
   "metadata": {},
   "source": [
    "We are using the Yelp Api to get the location cordinates, which will be feeded to to both the Uber and Lyft Api for price prediction."
   ]
  },
  {
   "cell_type": "code",
   "execution_count": 1,
   "metadata": {
    "collapsed": true
   },
   "outputs": [],
   "source": [
    "#Boston zipcodes: http://www.city-data.com/zipmaps/Boston-Massachusetts.html\n",
    "\n",
    "#Cambridge zipcodes: http://www2.cambridgema.gov/CityOfCambridge_Content/documents/ZipCodeMap.pdf\n",
    "\n",
    "zipcodes = [\"02108\", \"02109\", \"02110\", \"02111\", \"02113\", \"02114\", \"02115\", \"02116\", \"02118\", \"02119\", \"02120\", \"02121\", \"02122\", \n",
    "            \"02124\", \"02125\", \"02126\", \"02127\", \"02128\", \"02129\", \"02130\", \"02131\", \"02132\", \"02134\", \"02135\", \"02136\", \"02151\", \n",
    "            \"02152\", \"02163\", \"02199\", \"02203\", \"02210\", \"02215\", \"02467\", \"02138\", \"02139\", \"02140\", \"02141\", \"02142\"]"
   ]
  },
  {
   "cell_type": "markdown",
   "metadata": {},
   "source": [
    "Instead of inputting random coordinates in Boston and Cambridge, which are the areas we are parameterizing, we opted to query Yelp’s API as well because it returns actual businesses’ location and thankfully the returned data contains longitudes and latitudes."
   ]
  },
  {
   "cell_type": "code",
   "execution_count": 0,
   "metadata": {
    "collapsed": true
   },
   "outputs": [],
   "source": [
    "# data = {'grant_type': 'client_credentials',\n",
    "#         'client_id': app_id,\n",
    "#         'client_secret': app_secret}\n",
    "# token = requests.post('https://api.yelp.com/oauth2/token', data=data)\n",
    "# access_token = token.json()['access_token']\n",
    "api_key = 'nIBG6z_BWFoH2CUvBagSh-7LNxr0UIXp0TIgnKrxDvCkBiCYu2InnKrqFvm-_KYm2a8_EBoFGiAqv5OMsdg6h38Vn-BiQNLx6hhiTgKD1F7gBKNn5SQRAJgh3EGcWnYx'\n",
    "url = 'https://api.yelp.com/v3/businesses/search'\n",
    "headers = {'Authorization': 'bearer %s' % api_key}\n",
    "\n",
    "# Yelp v3 API: https://nz.yelp.com/developers/documentation/v3\n",
    "# https://www.yelp.com/developers/documentation/v3/business_search\n",
    "\n",
    "for z in zipcodes:   \n",
    "    params = {'location': '%s' % z, # for loop of zipcodes in Boston and Cambridge\n",
    "              'categories': 'active', # active stands for all businesses https://www.yelp.com/developers/documentation/v3/all_category_list\n",
    "              'limit': 50} # maximum 50\n",
    "    \n",
    "response = requests.get(url=url, params=params, headers=headers)\n",
    "\n",
    "results = response.json()['businesses']\n",
    "for business in results:\n",
    "     print(business['name'], business['location'])\n",
    "\n",
    "print ('\\nTotal Businesses retrieved:', len(results))\n",
    "\n",
    "\n",
    "conn = sqlite3.connect('yelp.db')\n",
    "cur = conn.cursor()\n",
    "\n",
    "\n",
    "# normalizing json to pandas dataframe\n",
    "df = json_normalize(results)\n",
    "\n",
    "df = df.drop(['categories', 'location.display_address', 'transactions'], axis=1)\n",
    "\n",
    "#Renaming the columns\n",
    "df.columns = df.columns.str.replace(r'[.]', '_')\n",
    "\n",
    "# converting to sqlite\n",
    "df.to_sql(\"yelp_businesses\", conn, if_exists=\"replace\")\n",
    "\n",
    "#Getting the data into our dataframe\n",
    "pd.read_sql_query(\"select * from yelp_businesses;\", conn)"
   ]
  },
  {
   "cell_type": "markdown",
   "metadata": {},
   "source": [
    "We are using api to scrap the data within the parameters i.e. zipcodes, and then we convert the json file to our dataframe."
   ]
  },
  {
   "cell_type": "markdown",
   "metadata": {},
   "source": [
    "## Uber API"
   ]
  },
  {
   "cell_type": "markdown",
   "metadata": {},
   "source": [
    "Using the proper import methods to call the api."
   ]
  },
  {
   "cell_type": "code",
   "execution_count": 0,
   "metadata": {
    "collapsed": true
   },
   "outputs": [],
   "source": [
    "# pip install uber-rides\n",
    "from uber_rides.session import Session as uber_Session\n",
    "from uber_rides.client import UberRidesClient\n",
    "# conda install -c conda-forge geopy\n",
    "from geopy.distance import vincenty\n",
    "import csv\n",
    "\n",
    "session = uber_Session(server_token='Uvu3eEPnLtPKCbTU7KrCko5jo1ua4CVgYAqd0JfO')\n",
    "client = UberRidesClient(session)"
   ]
  },
  {
   "cell_type": "markdown",
   "metadata": {},
   "source": [
    "Getting the source and destination coordinates for the API using our yelp database."
   ]
  },
  {
   "cell_type": "code",
   "execution_count": 0,
   "metadata": {
    "collapsed": true
   },
   "outputs": [],
   "source": [
    "df1 = pd.read_sql_query(\"SELECT name, coordinates_latitude, coordinates_longitude, location_address1, location_address2, location_address3, location_city, location_state, location_zip_code, location_country FROM yelp_businesses ORDER BY RANDOM() LIMIT 1;\", conn)\n",
    "df1.head()\n",
    "\n",
    "df2 = pd.read_sql_query('SELECT name, coordinates_latitude, coordinates_longitude, location_address1, location_address2, location_address3, location_city, location_state, location_zip_code, location_country FROM yelp_businesses where name IN (SELECT name FROM yelp_businesses ORDER BY RANDOM() LIMIT 1)', conn)\n",
    "df2.head()\n",
    "\n",
    "start_loc = (df1['coordinates_latitude'][0], df1['coordinates_longitude'][0])\n",
    "start_loc\n",
    "\n",
    "end_loc = (df2['coordinates_latitude'][0], df2['coordinates_longitude'][0])\n",
    "end_loc"
   ]
  },
  {
   "cell_type": "markdown",
   "metadata": {},
   "source": [
    "Limiting the distance between our source and destinations to 1 mile, as no one would go for a ride within 1 mile."
   ]
  },
  {
   "cell_type": "code",
   "execution_count": 0,
   "metadata": {
    "collapsed": true
   },
   "outputs": [],
   "source": [
    "distance = vincenty(start_loc, end_loc).miles\n",
    "    if(distance > 1):\n",
    "        print(distance, '\\n')\n",
    "        response = client.get_price_estimates(\n",
    "        start_latitude= df1['coordinates_latitude'][0],\n",
    "        start_longitude= df1['coordinates_longitude'][0],\n",
    "        end_latitude=  df2['coordinates_latitude'][0],\n",
    "        end_longitude= df2['coordinates_longitude'][0]\n",
    "        )\n",
    "        uber_rides = response.json.get(\"prices\")\n",
    "        print(uber_rides)\n",
    "       "
   ]
  },
  {
   "cell_type": "markdown",
   "metadata": {},
   "source": [
    "Setting time and cooridnates to our json file."
   ]
  },
  {
   "cell_type": "code",
   "execution_count": 0,
   "metadata": {
    "collapsed": true
   },
   "outputs": [],
   "source": [
    "dt = datetime.datetime.now()    \n",
    "    for rides in uber_rides:\n",
    "        rides[\"time\"] = dt.strftime('%H:%M:%S')\n",
    "        rides['day'] = dt.strftime('%A')\n",
    "        rides['date'] = dt.strftime('%B %d, %Y')\n",
    "        rides[\"start_latitude\"] = df1['coordinates_latitude'][0]\n",
    "        rides[\"start_longitude\"] = df1['coordinates_longitude'][0]\n",
    "        rides[\"end_latitude\"] = df2['coordinates_latitude'][0]\n",
    "        rides[\"end_longitude\"] = df2['coordinates_longitude'][0]\n",
    "        rides['start_location'] = df1['name'][0]\n",
    "        rides['end_location'] = df2['name'][0]"
   ]
  },
  {
   "cell_type": "markdown",
   "metadata": {},
   "source": [
    "Converting our json file to the data frame and getting the output as a csv file. This will allow us to gather our data for further analysis."
   ]
  },
  {
   "cell_type": "code",
   "execution_count": 0,
   "metadata": {
    "collapsed": true
   },
   "outputs": [],
   "source": [
    "df_uber = pd.DataFrame(uber_rides)\n",
    "\n",
    "# to append when sending to server\n",
    "with open('uber_test.csv', 'a') as f:\n",
    "    df_uber.to_csv(f, sep=',', encoding='utf-8', index=False, header=False)\n",
    "    \n",
    "    "
   ]
  },
  {
   "cell_type": "markdown",
   "metadata": {},
   "source": [
    "## Lyft API"
   ]
  },
  {
   "cell_type": "code",
   "execution_count": 1,
   "metadata": {},
   "outputs": [
    {
     "ename": "ImportError",
     "evalue": "No module named 'lyft_rides'",
     "output_type": "error",
     "traceback": [
      "\u001b[0;31m---------------------------------------------------------------------------\u001b[0m",
      "\u001b[0;31mImportError\u001b[0m                               Traceback (most recent call last)",
      "\u001b[0;32m<ipython-input-1-fee050a166b8>\u001b[0m in \u001b[0;36m<module>\u001b[0;34m()\u001b[0m\n\u001b[0;32m----> 1\u001b[0;31m \u001b[0;32mfrom\u001b[0m \u001b[0mlyft_rides\u001b[0m\u001b[0;34m.\u001b[0m\u001b[0mauth\u001b[0m \u001b[0;32mimport\u001b[0m \u001b[0mClientCredentialGrant\u001b[0m\u001b[0;34m\u001b[0m\u001b[0m\n\u001b[0m\u001b[1;32m      2\u001b[0m \u001b[0;32mfrom\u001b[0m \u001b[0mlyft_rides\u001b[0m\u001b[0;34m.\u001b[0m\u001b[0msession\u001b[0m \u001b[0;32mimport\u001b[0m \u001b[0mSession\u001b[0m \u001b[0;32mas\u001b[0m \u001b[0mlyft_Session\u001b[0m\u001b[0;34m\u001b[0m\u001b[0m\n\u001b[1;32m      3\u001b[0m \u001b[0;32mfrom\u001b[0m \u001b[0mlyft_rides\u001b[0m\u001b[0;34m.\u001b[0m\u001b[0mauth\u001b[0m \u001b[0;32mimport\u001b[0m \u001b[0mAuthorizationCodeGrant\u001b[0m\u001b[0;34m\u001b[0m\u001b[0m\n",
      "\u001b[0;31mImportError\u001b[0m: No module named 'lyft_rides'"
     ]
    }
   ],
   "source": [
    "from lyft_rides.auth import ClientCredentialGrant\n",
    "from lyft_rides.session import Session as lyft_Session\n",
    "from lyft_rides.auth import AuthorizationCodeGrant"
   ]
  },
  {
   "cell_type": "markdown",
   "metadata": {},
   "source": [
    "Using the same source and destiantion coordinates to get price estimations using the Lyft api for getting comparisons between Uber and Lyft."
   ]
  },
  {
   "cell_type": "code",
   "execution_count": 0,
   "metadata": {
    "collapsed": true
   },
   "outputs": [],
   "source": [
    "auth_flow = ClientCredentialGrant(\n",
    "    'gRUenY4LPYg_',\n",
    "    'dFyiT-f23Jwmo_A7n2xGfzp_WcWvBIi8',\n",
    "    'public',\n",
    "    )\n",
    "lyft_session = auth_flow.get_session()\n",
    "\n",
    "#Use the same location\n",
    "df1.head()\n",
    "\n",
    "df2.head()\n",
    "\n",
    "#Get the ride type, Introduction to different type of lyft:https://developer.lyft.com/docs/glossary\n",
    "from lyft_rides.client import LyftRidesClient\n",
    "\n",
    "lyft_client=LyftRidesClient(lyft_session)\n",
    "lyft_type_response = lyft_client.get_ride_types(df1['coordinates_latitude'][0], df1['coordinates_longitude'][0])\n",
    "ride_types = lyft_type_response.json.get('ride_types')\n",
    "print(ride_types)"
   ]
  },
  {
   "cell_type": "markdown",
   "metadata": {},
   "source": [
    "Verification of minimum distance"
   ]
  },
  {
   "cell_type": "code",
   "execution_count": 0,
   "metadata": {
    "collapsed": true
   },
   "outputs": [],
   "source": [
    "#Get the ride estimated cost\n",
    "distance = vincenty(start_loc, end_loc).miles\n",
    "if(distance > 1):\n",
    "    print(distance)\n",
    "    lyft_price_response = lyft_client.get_cost_estimates(\n",
    "    start_latitude= df1['coordinates_latitude'][0],\n",
    "    start_longitude= df1['coordinates_longitude'][0],\n",
    "    end_latitude=  df2['coordinates_latitude'][0],\n",
    "    end_longitude= df2['coordinates_longitude'][0]\n",
    "    )\n",
    "    lyft_rides = lyft_price_response.json.get('cost_estimates')\n",
    "    print(lyft_rides)"
   ]
  },
  {
   "cell_type": "markdown",
   "metadata": {},
   "source": [
    "Adding date-time and inserting start and end locations to the json file and then converting them to a dataframe and apending them to a csv file."
   ]
  },
  {
   "cell_type": "code",
   "execution_count": 0,
   "metadata": {
    "collapsed": true
   },
   "outputs": [],
   "source": [
    "for rides in lyft_rides:\n",
    "    rides[\"time\"] = dt.strftime('%H:%M:%S')\n",
    "    rides['day'] = dt.strftime('%A')\n",
    "    rides['date'] = dt.strftime('%B %d, %Y')\n",
    "    rides[\"start_latitude\"] = df1['coordinates_latitude'][0]\n",
    "    rides[\"start_longitude\"] = df1['coordinates_longitude'][0]\n",
    "    rides[\"end_latitude\"] = df2['coordinates_latitude'][0]\n",
    "    rides[\"end_longitude\"] = df2['coordinates_longitude'][0]\n",
    "    rides['start_location'] = df1['name'][0]\n",
    "    rides['end_location'] = df2['name'][0]\n",
    "    \n",
    "df_lyft = pd.DataFrame(lyft_rides)\n",
    "df_lyft\n",
    "\n",
    "file_name_lyft = os.path.join(os.getcwd(), 'lyft_test.csv')\n",
    "df_lyft.to_csv(file_name_lyft, sep=',', encoding='utf-8', index=False\n",
    "               \n",
    "# to append when sending to server\n",
    "with open('lyft_test.csv', 'a') as f:\n",
    "    df_lyft.to_csv(f, sep=',', encoding='utf-8', index=False, header=False)"
   ]
  },
  {
   "cell_type": "markdown",
   "metadata": {},
   "source": [
    "## Weather API"
   ]
  },
  {
   "cell_type": "markdown",
   "metadata": {},
   "source": [
    "Getting the weather data as a feature to add to our dataset for further analysis."
   ]
  },
  {
   "cell_type": "code",
   "execution_count": 4,
   "metadata": {},
   "outputs": [
    {
     "ename": "NameError",
     "evalue": "name 'df1' is not defined",
     "output_type": "error",
     "traceback": [
      "\u001b[0;31m---------------------------------------------------------------------------\u001b[0m",
      "\u001b[0;31mNameError\u001b[0m                                 Traceback (most recent call last)",
      "\u001b[0;32m<ipython-input-4-73e8b977298c>\u001b[0m in \u001b[0;36m<module>\u001b[0;34m()\u001b[0m\n\u001b[1;32m      1\u001b[0m \u001b[0;31m#Get the current weather information from lat and long\u001b[0m\u001b[0;34m\u001b[0m\u001b[0;34m\u001b[0m\u001b[0m\n\u001b[1;32m      2\u001b[0m \u001b[0;31m#http://api.openweathermap.org/data/2.5/weather?lat=42.37046&lon=-71.10352&appid=119fe664452f079528a64467c793dd7d\u001b[0m\u001b[0;34m\u001b[0m\u001b[0;34m\u001b[0m\u001b[0m\n\u001b[0;32m----> 3\u001b[0;31m \u001b[0mlat\u001b[0m\u001b[0;34m=\u001b[0m\u001b[0mstr\u001b[0m\u001b[0;34m(\u001b[0m\u001b[0mdf1\u001b[0m\u001b[0;34m[\u001b[0m\u001b[0;34m'coordinates_latitude'\u001b[0m\u001b[0;34m]\u001b[0m\u001b[0;34m[\u001b[0m\u001b[0;36m0\u001b[0m\u001b[0;34m]\u001b[0m\u001b[0;34m)\u001b[0m\u001b[0;34m\u001b[0m\u001b[0m\n\u001b[0m\u001b[1;32m      4\u001b[0m \u001b[0mlong\u001b[0m\u001b[0;34m=\u001b[0m\u001b[0mstr\u001b[0m\u001b[0;34m(\u001b[0m\u001b[0mdf1\u001b[0m\u001b[0;34m[\u001b[0m\u001b[0;34m'coordinates_longitude'\u001b[0m\u001b[0;34m]\u001b[0m\u001b[0;34m[\u001b[0m\u001b[0;36m0\u001b[0m\u001b[0;34m]\u001b[0m\u001b[0;34m)\u001b[0m\u001b[0;34m\u001b[0m\u001b[0m\n\u001b[1;32m      5\u001b[0m \u001b[0;34m\u001b[0m\u001b[0m\n",
      "\u001b[0;31mNameError\u001b[0m: name 'df1' is not defined"
     ]
    }
   ],
   "source": [
    "#Get the current weather information from lat and long\n",
    "#http://api.openweathermap.org/data/2.5/weather?lat=42.37046&lon=-71.10352&appid=119fe664452f079528a64467c793dd7d\n",
    "lat=str(df1['coordinates_latitude'][0])\n",
    "long=str(df1['coordinates_longitude'][0])\n",
    "\n",
    "api_address='http://api.openweathermap.org/data/2.5/weather?lat='+lat+'&lon='+long+'&appid=119fe664452f079528a64467c793dd7d&q='\n",
    "\n",
    "# real_time=time.strftime(\"%Y-%m-%d %H:%M:%S\", time.localtime())\n",
    "\n",
    "weather_data = requests.get(api_address).json()\n",
    "\n",
    "print(weather_data)\n",
    "# print(real_time)"
   ]
  },
  {
   "cell_type": "code",
   "execution_count": 0,
   "metadata": {
    "collapsed": true
   },
   "outputs": [],
   "source": [
    "df_weather.columns = df_weather.columns.str.replace(r'[.]', '_')\n",
    "df_weather.head()\n",
    "\n",
    "df_weather = df_weather[['weather', 'main_temp', 'main_temp_max', 'main_temp_min']]\n",
    "df_weather.head()"
   ]
  }
 ],
 "metadata": {
  "kernelspec": {
   "display_name": "Python [conda root]",
   "language": "python",
   "name": "conda-root-py"
  },
  "language_info": {
   "codemirror_mode": {
    "name": "ipython",
    "version": 3
   },
   "file_extension": ".py",
   "mimetype": "text/x-python",
   "name": "python",
   "nbconvert_exporter": "python",
   "pygments_lexer": "ipython3",
   "version": "3.6.4"
  }
 },
 "nbformat": 4,
 "nbformat_minor": 1
}
